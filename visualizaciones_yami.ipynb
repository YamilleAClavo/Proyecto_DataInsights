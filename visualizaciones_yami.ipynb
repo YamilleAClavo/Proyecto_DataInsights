{
 "cells": [
  {
   "cell_type": "code",
   "execution_count": 2,
   "metadata": {},
   "outputs": [],
   "source": [
    "# Libraries \n",
    "# -----------------------------------------------------------------------\n",
    "import pandas as pd\n",
    "import numpy as np\n",
    "import re\n",
    "\n",
    "from itertools import combinations\n",
    "from scipy.stats import kstest, spearmanr, pearsonr, chi2_contingency\n",
    "\n",
    "# Configuration\n",
    "# -----------------------------------------------------------------------\n",
    "pd.set_option('display.max_columns', None)\n",
    "pd.set_option('display.max_colwidth', None)\n",
    "# pd.set_option('display.max_rows', None)\n",
    "\n",
    "import matplotlib.pyplot as plt\n",
    "import seaborn as sns"
   ]
  },
  {
   "cell_type": "code",
   "execution_count": 3,
   "metadata": {},
   "outputs": [],
   "source": [
    "df = pd.read_csv('data/df_final.csv', index_col=0)"
   ]
  },
  {
   "cell_type": "code",
   "execution_count": 4,
   "metadata": {},
   "outputs": [
    {
     "data": {
      "text/html": [
       "<div>\n",
       "<style scoped>\n",
       "    .dataframe tbody tr th:only-of-type {\n",
       "        vertical-align: middle;\n",
       "    }\n",
       "\n",
       "    .dataframe tbody tr th {\n",
       "        vertical-align: top;\n",
       "    }\n",
       "\n",
       "    .dataframe thead th {\n",
       "        text-align: right;\n",
       "    }\n",
       "</style>\n",
       "<table border=\"1\" class=\"dataframe\">\n",
       "  <thead>\n",
       "    <tr style=\"text-align: right;\">\n",
       "      <th></th>\n",
       "      <th>is_canceled</th>\n",
       "      <th>lead_time</th>\n",
       "      <th>arrival_date_year</th>\n",
       "      <th>arrival_date_month</th>\n",
       "      <th>arrival_date_week_number</th>\n",
       "      <th>arrival_date_day_of_month</th>\n",
       "      <th>stays_in_weekend_nights</th>\n",
       "      <th>stays_in_week_nights</th>\n",
       "      <th>adults</th>\n",
       "      <th>children</th>\n",
       "      <th>babies</th>\n",
       "      <th>meal</th>\n",
       "      <th>country</th>\n",
       "      <th>market_segment</th>\n",
       "      <th>distribution_channel</th>\n",
       "      <th>is_repeated_guest</th>\n",
       "      <th>previous_cancellations</th>\n",
       "      <th>previous_bookings_not_canceled</th>\n",
       "      <th>reserved_room_type</th>\n",
       "      <th>assigned_room_type</th>\n",
       "      <th>booking_changes</th>\n",
       "      <th>agent</th>\n",
       "      <th>company</th>\n",
       "      <th>days_in_waiting_list</th>\n",
       "      <th>customer_type</th>\n",
       "      <th>adr</th>\n",
       "      <th>required_car_parking_spaces</th>\n",
       "      <th>total_of_special_requests</th>\n",
       "      <th>reservation_status</th>\n",
       "      <th>reservation_status_date</th>\n",
       "      <th>adr_category</th>\n",
       "      <th>total_nights</th>\n",
       "      <th>arrival_date</th>\n",
       "    </tr>\n",
       "    <tr>\n",
       "      <th>hotel</th>\n",
       "      <th></th>\n",
       "      <th></th>\n",
       "      <th></th>\n",
       "      <th></th>\n",
       "      <th></th>\n",
       "      <th></th>\n",
       "      <th></th>\n",
       "      <th></th>\n",
       "      <th></th>\n",
       "      <th></th>\n",
       "      <th></th>\n",
       "      <th></th>\n",
       "      <th></th>\n",
       "      <th></th>\n",
       "      <th></th>\n",
       "      <th></th>\n",
       "      <th></th>\n",
       "      <th></th>\n",
       "      <th></th>\n",
       "      <th></th>\n",
       "      <th></th>\n",
       "      <th></th>\n",
       "      <th></th>\n",
       "      <th></th>\n",
       "      <th></th>\n",
       "      <th></th>\n",
       "      <th></th>\n",
       "      <th></th>\n",
       "      <th></th>\n",
       "      <th></th>\n",
       "      <th></th>\n",
       "      <th></th>\n",
       "      <th></th>\n",
       "    </tr>\n",
       "  </thead>\n",
       "  <tbody>\n",
       "    <tr>\n",
       "      <th>Resort Hotel</th>\n",
       "      <td>False</td>\n",
       "      <td>342.0</td>\n",
       "      <td>2015.0</td>\n",
       "      <td>7.0</td>\n",
       "      <td>27.0</td>\n",
       "      <td>1.0</td>\n",
       "      <td>0.0</td>\n",
       "      <td>0.0</td>\n",
       "      <td>2.0</td>\n",
       "      <td>NaN</td>\n",
       "      <td>0.0</td>\n",
       "      <td>BB</td>\n",
       "      <td>PRT</td>\n",
       "      <td>Direct</td>\n",
       "      <td>Direct</td>\n",
       "      <td>0.0</td>\n",
       "      <td>NaN</td>\n",
       "      <td>0.0</td>\n",
       "      <td>C</td>\n",
       "      <td>C</td>\n",
       "      <td>3.0</td>\n",
       "      <td>0.0</td>\n",
       "      <td>NaN</td>\n",
       "      <td>0.0</td>\n",
       "      <td>Transient</td>\n",
       "      <td>0.0</td>\n",
       "      <td>0.0</td>\n",
       "      <td>0.0</td>\n",
       "      <td>Check-Out</td>\n",
       "      <td>2015-07-01</td>\n",
       "      <td>Grátis</td>\n",
       "      <td>0.0</td>\n",
       "      <td>2015-07-01</td>\n",
       "    </tr>\n",
       "    <tr>\n",
       "      <th>Resort Hotel</th>\n",
       "      <td>False</td>\n",
       "      <td>737.0</td>\n",
       "      <td>2015.0</td>\n",
       "      <td>7.0</td>\n",
       "      <td>27.0</td>\n",
       "      <td>1.0</td>\n",
       "      <td>0.0</td>\n",
       "      <td>0.0</td>\n",
       "      <td>2.0</td>\n",
       "      <td>NaN</td>\n",
       "      <td>0.0</td>\n",
       "      <td>BB</td>\n",
       "      <td>NaN</td>\n",
       "      <td>Direct</td>\n",
       "      <td>Direct</td>\n",
       "      <td>0.0</td>\n",
       "      <td>0.0</td>\n",
       "      <td>0.0</td>\n",
       "      <td>NaN</td>\n",
       "      <td>C</td>\n",
       "      <td>4.0</td>\n",
       "      <td>0.0</td>\n",
       "      <td>NaN</td>\n",
       "      <td>0.0</td>\n",
       "      <td>Transient</td>\n",
       "      <td>0.0</td>\n",
       "      <td>0.0</td>\n",
       "      <td>0.0</td>\n",
       "      <td>Check-Out</td>\n",
       "      <td>2015-07-01</td>\n",
       "      <td>Grátis</td>\n",
       "      <td>0.0</td>\n",
       "      <td>2015-07-01</td>\n",
       "    </tr>\n",
       "    <tr>\n",
       "      <th>Resort Hotel</th>\n",
       "      <td>False</td>\n",
       "      <td>7.0</td>\n",
       "      <td>2015.0</td>\n",
       "      <td>7.0</td>\n",
       "      <td>27.0</td>\n",
       "      <td>1.0</td>\n",
       "      <td>0.0</td>\n",
       "      <td>1.0</td>\n",
       "      <td>1.0</td>\n",
       "      <td>0.0</td>\n",
       "      <td>0.0</td>\n",
       "      <td>BB</td>\n",
       "      <td>GBR</td>\n",
       "      <td>Direct</td>\n",
       "      <td>Direct</td>\n",
       "      <td>0.0</td>\n",
       "      <td>0.0</td>\n",
       "      <td>0.0</td>\n",
       "      <td>A</td>\n",
       "      <td>C</td>\n",
       "      <td>0.0</td>\n",
       "      <td>0.0</td>\n",
       "      <td>NaN</td>\n",
       "      <td>0.0</td>\n",
       "      <td>Transient</td>\n",
       "      <td>75.0</td>\n",
       "      <td>0.0</td>\n",
       "      <td>0.0</td>\n",
       "      <td>Check-Out</td>\n",
       "      <td>2015-07-02</td>\n",
       "      <td>Medio-bajo</td>\n",
       "      <td>1.0</td>\n",
       "      <td>2015-07-01</td>\n",
       "    </tr>\n",
       "    <tr>\n",
       "      <th>Resort Hotel</th>\n",
       "      <td>False</td>\n",
       "      <td>13.0</td>\n",
       "      <td>2015.0</td>\n",
       "      <td>7.0</td>\n",
       "      <td>27.0</td>\n",
       "      <td>1.0</td>\n",
       "      <td>0.0</td>\n",
       "      <td>1.0</td>\n",
       "      <td>1.0</td>\n",
       "      <td>NaN</td>\n",
       "      <td>0.0</td>\n",
       "      <td>BB</td>\n",
       "      <td>GBR</td>\n",
       "      <td>Corporate</td>\n",
       "      <td>Corporate</td>\n",
       "      <td>0.0</td>\n",
       "      <td>0.0</td>\n",
       "      <td>0.0</td>\n",
       "      <td>A</td>\n",
       "      <td>A</td>\n",
       "      <td>0.0</td>\n",
       "      <td>304.0</td>\n",
       "      <td>NaN</td>\n",
       "      <td>0.0</td>\n",
       "      <td>Transient</td>\n",
       "      <td>75.0</td>\n",
       "      <td>0.0</td>\n",
       "      <td>0.0</td>\n",
       "      <td>Check-Out</td>\n",
       "      <td>2015-07-02</td>\n",
       "      <td>Medio-bajo</td>\n",
       "      <td>1.0</td>\n",
       "      <td>2015-07-01</td>\n",
       "    </tr>\n",
       "    <tr>\n",
       "      <th>Resort Hotel</th>\n",
       "      <td>False</td>\n",
       "      <td>14.0</td>\n",
       "      <td>2015.0</td>\n",
       "      <td>7.0</td>\n",
       "      <td>27.0</td>\n",
       "      <td>1.0</td>\n",
       "      <td>0.0</td>\n",
       "      <td>2.0</td>\n",
       "      <td>2.0</td>\n",
       "      <td>NaN</td>\n",
       "      <td>0.0</td>\n",
       "      <td>BB</td>\n",
       "      <td>NaN</td>\n",
       "      <td>Online TA</td>\n",
       "      <td>TA/TO</td>\n",
       "      <td>0.0</td>\n",
       "      <td>0.0</td>\n",
       "      <td>0.0</td>\n",
       "      <td>A</td>\n",
       "      <td>A</td>\n",
       "      <td>0.0</td>\n",
       "      <td>240.0</td>\n",
       "      <td>NaN</td>\n",
       "      <td>0.0</td>\n",
       "      <td>Transient</td>\n",
       "      <td>98.0</td>\n",
       "      <td>0.0</td>\n",
       "      <td>1.0</td>\n",
       "      <td>Check-Out</td>\n",
       "      <td>2015-07-03</td>\n",
       "      <td>Medio-bajo</td>\n",
       "      <td>2.0</td>\n",
       "      <td>2015-07-01</td>\n",
       "    </tr>\n",
       "  </tbody>\n",
       "</table>\n",
       "</div>"
      ],
      "text/plain": [
       "              is_canceled  lead_time  arrival_date_year  arrival_date_month  \\\n",
       "hotel                                                                         \n",
       "Resort Hotel        False      342.0             2015.0                 7.0   \n",
       "Resort Hotel        False      737.0             2015.0                 7.0   \n",
       "Resort Hotel        False        7.0             2015.0                 7.0   \n",
       "Resort Hotel        False       13.0             2015.0                 7.0   \n",
       "Resort Hotel        False       14.0             2015.0                 7.0   \n",
       "\n",
       "              arrival_date_week_number  arrival_date_day_of_month  \\\n",
       "hotel                                                               \n",
       "Resort Hotel                      27.0                        1.0   \n",
       "Resort Hotel                      27.0                        1.0   \n",
       "Resort Hotel                      27.0                        1.0   \n",
       "Resort Hotel                      27.0                        1.0   \n",
       "Resort Hotel                      27.0                        1.0   \n",
       "\n",
       "              stays_in_weekend_nights  stays_in_week_nights  adults  children  \\\n",
       "hotel                                                                           \n",
       "Resort Hotel                      0.0                   0.0     2.0       NaN   \n",
       "Resort Hotel                      0.0                   0.0     2.0       NaN   \n",
       "Resort Hotel                      0.0                   1.0     1.0       0.0   \n",
       "Resort Hotel                      0.0                   1.0     1.0       NaN   \n",
       "Resort Hotel                      0.0                   2.0     2.0       NaN   \n",
       "\n",
       "              babies meal country market_segment distribution_channel  \\\n",
       "hotel                                                                   \n",
       "Resort Hotel     0.0   BB     PRT         Direct               Direct   \n",
       "Resort Hotel     0.0   BB     NaN         Direct               Direct   \n",
       "Resort Hotel     0.0   BB     GBR         Direct               Direct   \n",
       "Resort Hotel     0.0   BB     GBR      Corporate            Corporate   \n",
       "Resort Hotel     0.0   BB     NaN      Online TA                TA/TO   \n",
       "\n",
       "              is_repeated_guest  previous_cancellations  \\\n",
       "hotel                                                     \n",
       "Resort Hotel                0.0                     NaN   \n",
       "Resort Hotel                0.0                     0.0   \n",
       "Resort Hotel                0.0                     0.0   \n",
       "Resort Hotel                0.0                     0.0   \n",
       "Resort Hotel                0.0                     0.0   \n",
       "\n",
       "              previous_bookings_not_canceled reserved_room_type  \\\n",
       "hotel                                                             \n",
       "Resort Hotel                             0.0                  C   \n",
       "Resort Hotel                             0.0                NaN   \n",
       "Resort Hotel                             0.0                  A   \n",
       "Resort Hotel                             0.0                  A   \n",
       "Resort Hotel                             0.0                  A   \n",
       "\n",
       "             assigned_room_type  booking_changes  agent  company  \\\n",
       "hotel                                                              \n",
       "Resort Hotel                  C              3.0    0.0      NaN   \n",
       "Resort Hotel                  C              4.0    0.0      NaN   \n",
       "Resort Hotel                  C              0.0    0.0      NaN   \n",
       "Resort Hotel                  A              0.0  304.0      NaN   \n",
       "Resort Hotel                  A              0.0  240.0      NaN   \n",
       "\n",
       "              days_in_waiting_list customer_type   adr  \\\n",
       "hotel                                                    \n",
       "Resort Hotel                   0.0     Transient   0.0   \n",
       "Resort Hotel                   0.0     Transient   0.0   \n",
       "Resort Hotel                   0.0     Transient  75.0   \n",
       "Resort Hotel                   0.0     Transient  75.0   \n",
       "Resort Hotel                   0.0     Transient  98.0   \n",
       "\n",
       "              required_car_parking_spaces  total_of_special_requests  \\\n",
       "hotel                                                                  \n",
       "Resort Hotel                          0.0                        0.0   \n",
       "Resort Hotel                          0.0                        0.0   \n",
       "Resort Hotel                          0.0                        0.0   \n",
       "Resort Hotel                          0.0                        0.0   \n",
       "Resort Hotel                          0.0                        1.0   \n",
       "\n",
       "             reservation_status reservation_status_date adr_category  \\\n",
       "hotel                                                                  \n",
       "Resort Hotel          Check-Out              2015-07-01       Grátis   \n",
       "Resort Hotel          Check-Out              2015-07-01       Grátis   \n",
       "Resort Hotel          Check-Out              2015-07-02   Medio-bajo   \n",
       "Resort Hotel          Check-Out              2015-07-02   Medio-bajo   \n",
       "Resort Hotel          Check-Out              2015-07-03   Medio-bajo   \n",
       "\n",
       "              total_nights arrival_date  \n",
       "hotel                                    \n",
       "Resort Hotel           0.0   2015-07-01  \n",
       "Resort Hotel           0.0   2015-07-01  \n",
       "Resort Hotel           1.0   2015-07-01  \n",
       "Resort Hotel           1.0   2015-07-01  \n",
       "Resort Hotel           2.0   2015-07-01  "
      ]
     },
     "execution_count": 4,
     "metadata": {},
     "output_type": "execute_result"
    }
   ],
   "source": [
    "df.head()"
   ]
  },
  {
   "cell_type": "code",
   "execution_count": 5,
   "metadata": {},
   "outputs": [
    {
     "name": "stdout",
     "output_type": "stream",
     "text": [
      "<class 'pandas.core.frame.DataFrame'>\n",
      "Index: 117816 entries, Resort Hotel to City Hotel\n",
      "Data columns (total 33 columns):\n",
      " #   Column                          Non-Null Count   Dtype  \n",
      "---  ------                          --------------   -----  \n",
      " 0   is_canceled                     117816 non-null  bool   \n",
      " 1   lead_time                       117816 non-null  float64\n",
      " 2   arrival_date_year               111887 non-null  float64\n",
      " 3   arrival_date_month              117816 non-null  float64\n",
      " 4   arrival_date_week_number        116888 non-null  float64\n",
      " 5   arrival_date_day_of_month       117816 non-null  float64\n",
      " 6   stays_in_weekend_nights         117816 non-null  float64\n",
      " 7   stays_in_week_nights            117816 non-null  float64\n",
      " 8   adults                          117816 non-null  float64\n",
      " 9   children                        68254 non-null   float64\n",
      " 10  babies                          117816 non-null  float64\n",
      " 11  meal                            117816 non-null  object \n",
      " 12  country                         64139 non-null   object \n",
      " 13  market_segment                  111078 non-null  object \n",
      " 14  distribution_channel            110003 non-null  object \n",
      " 15  is_repeated_guest               112805 non-null  float64\n",
      " 16  previous_cancellations          75008 non-null   float64\n",
      " 17  previous_bookings_not_canceled  117816 non-null  float64\n",
      " 18  reserved_room_type              78066 non-null   object \n",
      " 19  assigned_room_type              117816 non-null  object \n",
      " 20  booking_changes                 117816 non-null  float64\n",
      " 21  agent                           114089 non-null  float64\n",
      " 22  company                         3842 non-null    float64\n",
      " 23  days_in_waiting_list            117816 non-null  float64\n",
      " 24  customer_type                   92747 non-null   object \n",
      " 25  adr                             117816 non-null  float64\n",
      " 26  required_car_parking_spaces     117816 non-null  float64\n",
      " 27  total_of_special_requests       117816 non-null  float64\n",
      " 28  reservation_status              117816 non-null  object \n",
      " 29  reservation_status_date         109405 non-null  object \n",
      " 30  adr_category                    117816 non-null  object \n",
      " 31  total_nights                    117816 non-null  float64\n",
      " 32  arrival_date                    111873 non-null  object \n",
      "dtypes: bool(1), float64(21), object(11)\n",
      "memory usage: 29.8+ MB\n"
     ]
    }
   ],
   "source": [
    "df.info()"
   ]
  },
  {
   "cell_type": "code",
   "execution_count": 20,
   "metadata": {},
   "outputs": [],
   "source": [
    "def categorize_season(month):\n",
    "    if month in [6, 7, 8]:\n",
    "        return 'Verano'\n",
    "    elif month in [12, 1, 2]:\n",
    "        return 'Invierno'\n",
    "    else:\n",
    "        return None  # Devuelve None para las otras estaciones\n",
    "\n",
    "\n",
    "df['season'] = df['arrival_date_month'].apply(lambda x: categorize_season(int(x)))\n",
    "\n",
    "# Filtrar las filas donde 'season' no es None (solo verano e invierno)\n",
    "df = df[df['season'].notna()]\n"
   ]
  },
  {
   "cell_type": "code",
   "execution_count": 21,
   "metadata": {},
   "outputs": [],
   "source": [
    "# Crear una columna para diferenciar entre semana y fines de semana\n",
    "def categorize_day_of_week(row):\n",
    "    if row['stays_in_weekend_nights'] > 0:\n",
    "        return 'Fin de semana'\n",
    "    else:\n",
    "        return 'Entre semana'\n",
    "\n",
    "df['week_period'] = df.apply(categorize_day_of_week, axis=1)\n"
   ]
  },
  {
   "cell_type": "code",
   "execution_count": 22,
   "metadata": {},
   "outputs": [
    {
     "data": {
      "image/png": "[encoded data removed]",
      "text/plain": [
       "<Figure size 576x432 with 1 Axes>"
      ]
     },
     "metadata": {
      "needs_background": "light"
     },
     "output_type": "display_data"
    }
   ],
   "source": [
    "# Crear una tabla para calcular la tasa de cancelación por temporada\n",
    "season_cancel_rate = df.groupby('season')['is_canceled'].mean().reset_index()\n",
    "\n",
    "# Graficar la tasa de cancelación por temporada\n",
    "plt.figure(figsize=(8, 6))\n",
    "sns.barplot(data=season_cancel_rate, x='season', y='is_canceled', palette='coolwarm')\n",
    "plt.title('Tasa de Cancelación por Temporada (Verano vs Invierno)')\n",
    "plt.ylabel('Tasa de Cancelación')\n",
    "plt.xlabel('Temporada')\n",
    "plt.show()\n"
   ]
  },
  {
   "cell_type": "code",
   "execution_count": 23,
   "metadata": {},
   "outputs": [
    {
     "data": {
      "image/png": "[encoded data removed]",
      "text/plain": [
       "<Figure size 576x432 with 1 Axes>"
      ]
     },
     "metadata": {
      "needs_background": "light"
     },
     "output_type": "display_data"
    }
   ],
   "source": [
    "# Crear una tabla para calcular la tasa de cancelación por días de la semana\n",
    "week_cancel_rate = df.groupby('week_period')['is_canceled'].mean().reset_index()\n",
    "\n",
    "# Graficar la tasa de cancelación entre semana vs fines de semana\n",
    "plt.figure(figsize=(8, 6))\n",
    "sns.barplot(data=week_cancel_rate, x='week_period', y='is_canceled', palette='coolwarm')\n",
    "plt.title('Tasa de Cancelación por Días de la Semana (Entre Semana vs Fin de Semana)')\n",
    "plt.ylabel('Tasa de Cancelación')\n",
    "plt.xlabel('Periodo de la Semana')\n",
    "plt.show()\n"
   ]
  },
  {
   "cell_type": "code",
   "execution_count": 24,
   "metadata": {},
   "outputs": [
    {
     "data": {
      "image/png": "[encoded data removed]",
      "text/plain": [
       "<Figure size 720x432 with 1 Axes>"
      ]
     },
     "metadata": {
      "needs_background": "light"
     },
     "output_type": "display_data"
    }
   ],
   "source": [
    "# Crear una tabla para calcular la tasa de cancelación por temporada y días de la semana\n",
    "season_week_cancel_rate = df.groupby(['season', 'week_period'])['is_canceled'].mean().reset_index()\n",
    "\n",
    "# Graficar la tasa de cancelación por temporada y días de la semana\n",
    "plt.figure(figsize=(10, 6))\n",
    "sns.barplot(data=season_week_cancel_rate, x='season', y='is_canceled', hue='week_period', palette='coolwarm')\n",
    "plt.title('Tasa de Cancelación por Temporada y Días de la Semana')\n",
    "plt.ylabel('Tasa de Cancelación')\n",
    "plt.xlabel('Temporada')\n",
    "plt.legend(title='Periodo de la Semana')\n",
    "plt.show()\n"
   ]
  },
  {
   "cell_type": "code",
   "execution_count": 25,
   "metadata": {},
   "outputs": [
    {
     "data": {
      "image/png": "[encoded data removed]",
      "text/plain": [
       "<Figure size 720x432 with 1 Axes>"
      ]
     },
     "metadata": {
      "needs_background": "light"
     },
     "output_type": "display_data"
    }
   ],
   "source": [
    "# Crear una tabla con la tasa de cancelación por país\n",
    "country_cancel_rate = df.groupby('country')['is_canceled'].mean().reset_index()\n",
    "\n",
    "# Graficar la tasa de cancelación por país (solo los países con más de 100 reservas para claridad)\n",
    "top_countries = df['country'].value_counts().nlargest(10).index  # Tomar los 10 países con más reservas\n",
    "filtered_data = df[df['country'].isin(top_countries)]\n",
    "\n",
    "plt.figure(figsize=(10, 6))\n",
    "sns.barplot(data=filtered_data, x='country', y='is_canceled', palette='coolwarm')\n",
    "plt.title('Tasa de Cancelación por País (Top 10 países con más reservas)')\n",
    "plt.ylabel('Tasa de Cancelación')\n",
    "plt.xlabel('País')\n",
    "plt.show()\n"
   ]
  },
  {
   "cell_type": "code",
   "execution_count": 26,
   "metadata": {},
   "outputs": [
    {
     "data": {
      "image/png": "[encoded data removed]",
      "text/plain": [
       "<Figure size 576x432 with 1 Axes>"
      ]
     },
     "metadata": {
      "needs_background": "light"
     },
     "output_type": "display_data"
    }
   ],
   "source": [
    "# Crear una tabla con la tasa de cancelación por número de adultos\n",
    "adults_cancel_rate = df.groupby('adults')['is_canceled'].mean().reset_index()\n",
    "\n",
    "# Graficar la tasa de cancelación por número de adultos\n",
    "plt.figure(figsize=(8, 6))\n",
    "sns.barplot(data=adults_cancel_rate, x='adults', y='is_canceled', palette='coolwarm')\n",
    "plt.title('Tasa de Cancelación por Número de Adultos')\n",
    "plt.ylabel('Tasa de Cancelación')\n",
    "plt.xlabel('Número de Adultos')\n",
    "plt.show()\n"
   ]
  },
  {
   "cell_type": "code",
   "execution_count": 27,
   "metadata": {},
   "outputs": [
    {
     "data": {
      "image/png": "[encoded data removed]",
      "text/plain": [
       "<Figure size 576x432 with 1 Axes>"
      ]
     },
     "metadata": {
      "needs_background": "light"
     },
     "output_type": "display_data"
    },
    {
     "data": {
      "image/png": "[encoded data removed]",
      "text/plain": [
       "<Figure size 576x432 with 1 Axes>"
      ]
     },
     "metadata": {
      "needs_background": "light"
     },
     "output_type": "display_data"
    }
   ],
   "source": [
    "# Tasa de cancelación por número de niños\n",
    "children_cancel_rate = df.groupby('children')['is_canceled'].mean().reset_index()\n",
    "\n",
    "plt.figure(figsize=(8, 6))\n",
    "sns.barplot(data=children_cancel_rate, x='children', y='is_canceled', palette='coolwarm')\n",
    "plt.title('Tasa de Cancelación por Número de Niños')\n",
    "plt.ylabel('Tasa de Cancelación')\n",
    "plt.xlabel('Número de Niños')\n",
    "plt.show()\n",
    "\n",
    "# Tasa de cancelación por número de bebés\n",
    "babies_cancel_rate = df.groupby('babies')['is_canceled'].mean().reset_index()\n",
    "\n",
    "plt.figure(figsize=(8, 6))\n",
    "sns.barplot(data=babies_cancel_rate, x='babies', y='is_canceled', palette='coolwarm')\n",
    "plt.title('Tasa de Cancelación por Número de Bebés')\n",
    "plt.ylabel('Tasa de Cancelación')\n",
    "plt.xlabel('Número de Bebés')\n",
    "plt.show()\n"
   ]
  },
  {
   "cell_type": "code",
   "execution_count": 28,
   "metadata": {},
   "outputs": [
    {
     "data": {
      "image/png": "[encoded data removed]",
      "text/plain": [
       "<Figure size 576x432 with 1 Axes>"
      ]
     },
     "metadata": {
      "needs_background": "light"
     },
     "output_type": "display_data"
    }
   ],
   "source": [
    "# Crear una tabla con la tasa de cancelación por tipo de cliente\n",
    "customer_type_cancel_rate = df.groupby('customer_type')['is_canceled'].mean().reset_index()\n",
    "\n",
    "# Graficar la tasa de cancelación por tipo de cliente\n",
    "plt.figure(figsize=(8, 6))\n",
    "sns.barplot(data=customer_type_cancel_rate, x='customer_type', y='is_canceled', palette='coolwarm')\n",
    "plt.title('Tasa de Cancelación por Tipo de Cliente')\n",
    "plt.ylabel('Tasa de Cancelación')\n",
    "plt.xlabel('Tipo de Cliente')\n",
    "plt.show()\n"
   ]
  }
 ],
 "metadata": {
  "kernelspec": {
   "display_name": "base",
   "language": "python",
   "name": "python3"
  },
  "language_info": {
   "codemirror_mode": {
    "name": "ipython",
    "version": 3
   },
   "file_extension": ".py",
   "mimetype": "text/x-python",
   "name": "python",
   "nbconvert_exporter": "python",
   "pygments_lexer": "ipython3",
   "version": "3.9.7"
  }
 },
 "nbformat": 4,
 "nbformat_minor": 2
}
